{
 "cells": [
  {
   "cell_type": "markdown",
   "metadata": {
    "deletable": true,
    "editable": true
   },
   "source": [
    "# Shallow water Riemann solvers in Clawpack\n",
    "A wide range of shallow water (SW) solvers are available in `clawpack.riemann`.  Here's a brief description of each.  For each one, we have indicated (after \"Fortran:\") the files you should compile to use it in the Fortran codes, and after \"PyClaw\" where you should import it from to use it in Python.  If a pure-Python implementation is available, we also indicate that.  Finally, we include links to examples that use each solver."
   ]
  },
  {
   "cell_type": "markdown",
   "metadata": {
    "deletable": true,
    "editable": true
   },
   "source": [
    "## One dimension\n",
    "For most 1D solvers, the vector `q` of conserved quantities is\n",
    "\n",
    "$$\n",
    "q = \\begin{bmatrix} h \\\\ hu \\end{bmatrix},\n",
    "$$\n",
    "\n",
    "where $h$ is depth and $hu$ is momentum.  Solvers with a tracer include that as a 3rd component.  For solvers with bathymetry, the bathymetry is the first (and only) component of `aux`.  All solvers require setting a constant parameter `grav`, which controls the force of gravity.\n",
    "\n",
    "- **Basic Roe solver**: The most basic solver.  Uses Roe's linearization, with an entropy fix.  \n",
    "  - Fortran code: [rp1_shallow_roe_with_efix.f90](https://github.com/clawpack/riemann/blob/master/src/rp1_shallow_roe_with_efix.f90)\n",
    "  - PyClaw import: `riemann.shallow_roe_with_efix_1D`\n",
    "  - Pure Python code: `riemann.shallow_1D_py.shallow_roe_1D`\n",
    "  - Examples: \n",
    "    - https://github.com/clawpack/pyclaw/blob/master/examples/shallow_1d/dam_break.py\n",
    "- **HLL solver**: Also basic; uses HLL instead of Roe.\n",
    "  - Pure Python `riemann.shallow_1D_py.shallow_hll_1D`\n",
    "- **Roe solver with a tracer**: Uses Roe's linearization and add a 3rd equation to advect a passive tracer.  Useful if you want to track which bit of water went where.  \n",
    "  - Fortran code: [rp1_shallow_roe_tracer.f90](https://github.com/clawpack/riemann/blob/master/src/rp1_shallow_roe_tracer.f90)\n",
    "  - PyClaw import: `riemann.shallow_roe_tracer_1D`\n",
    "  - Examples:\n",
    "    - https://github.com/clawpack/riemann_book/blob/master/Shallow_tracer.ipynb\n",
    "- **F-wave solver with bathymetry**: Use this one if you have varying bathymetry.  Uses the $f$-wave approach to incorporate source terms from bathymetry.  Well-balanced.  \n",
    "  - Fortran: `rp1_shallow_bathymetry_fwave.f90` \n",
    "  - PyClaw: `riemann.shallow_bathymetry_fwave_1D`\n",
    "  - Pure Python: `riemann.shallow_1D_py.shallow_fwave_1D`\n",
    "  - Examples: \n",
    "    - https://github.com/clawpack/pyclaw/blob/master/examples/shallow_1d/sill.py"
   ]
  },
  {
   "cell_type": "markdown",
   "metadata": {
    "deletable": true,
    "editable": true
   },
   "source": [
    "## Two dimensions\n",
    "For most 2D solvers, the vector `q` of conserved quantities is\n",
    "\n",
    "$$\n",
    "q = \\begin{bmatrix} h \\\\ hu \\\\ hv \\end{bmatrix},\n",
    "$$\n",
    "\n",
    "where $h$ is depth and $hu, hv$ are the $x$- and $y$-components of momentum.  For solvers with bathymetry, the bathymetry is the first (and only) component of `aux`.  For the mapped solver, see the implementation for a description of `aux`.  As in 1D, all solvers require setting a constant parameter `grav`, which controls the force of gravity.\n",
    "\n",
    "- **Basic Roe solver**: The most basic solver.  Uses Roe's linearization, with an entropy fix.  Normal and transverse solvers available.  \n",
    "  - Fortran code: [rpn2_shallow_roe_with_efix.f90](https://github.com/clawpack/riemann/blob/master/src/rpn2_shallow_roe_with_efix.f90), [rpt2_shallow_roe_with_efix.f90](https://github.com/clawpack/riemann/blob/master/src/rpt2_shallow_roe_with_efix.f90) \n",
    "  - PyClaw import: `riemann.shallow_roe_with_efix_2D`.\n",
    "  - Examples:  \n",
    "    - https://github.com/clawpack/pyclaw/blob/master/examples/shallow_2d/radial_dam_break.py\n",
    "- **F-wave solver with bathymetry**: Use this one if you have varying bathymetry but no dry states.  Uses the $f$-wave approach to incorporate source terms from bathymetry.  Well-balanced.  Normal solver only.  \n",
    "  - Fortran: `rpn2_shallow_bathymetry_fwave.f90`.  \n",
    "  - PyClaw: `riemann.shallow_bathymetry_fwave_2D`.\n",
    "- **Mapped solver for the sphere**: Uses grid mapping to solve the shallow water equations on the sphere.  Does not include bathymetry.  Both normal and transverse solvers available.  \n",
    "  - Fortran: [rpn2_shallow_sphere.f90](https://github.com/clawpack/riemann/blob/master/src/rpn2_shallow_sphere.f90), [rpt2_shallow_sphere.f90](https://github.com/clawpack/riemann/blob/master/src/rpt2_shallow_sphere.f90)\n",
    "  - PyClaw: `riemann.shallow_sphere_2D`\n",
    "  - Examples:\n",
    "    - https://github.com/clawpack/pyclaw/blob/master/examples/shallow_sphere/Rossby_wave.py\n",
    "- **GeoClaw \"augmented\" solver**: This is the most robust (but also the most costly) solver.  Used in GeoClaw.  Augmented solver (with extra waves) to handle bathymetry, and dry states.  Both normal and transverse solvers available.  \n",
    "  - Fortran: [rpn2_geoclaw.f](https://github.com/clawpack/riemann/blob/master/src/rpn2_geoclaw.f), [rpt2_geoclaw.f](https://github.com/clawpack/riemann/blob/master/src/rpn2_geoclaw.f)\n",
    "  - PyClaw import: (normal solver only) `riemann.sw_aug_2d`\n",
    "  - Examples: \n",
    "      - https://github.com/clawpack/apps/blob/master/notebooks/pyclaw/beach.ipynb"
   ]
  },
  {
   "cell_type": "markdown",
   "metadata": {
    "deletable": true,
    "editable": true
   },
   "source": [
    "## Layered shallow water equations\n",
    "1D and 2D solvers for the layered shallow water equations are also included."
   ]
  },
  {
   "cell_type": "markdown",
   "metadata": {
    "deletable": true,
    "editable": true
   },
   "source": [
    "## Potentially useful contributions (what's missing)\n",
    "- 2D mapped grid solvers (for a planar grid)\n",
    "- Transverse versions of `rpn2_shallow_bathymetry_fwave.f90`, `rpn2_sw_aug.f90`."
   ]
  },
  {
   "cell_type": "markdown",
   "metadata": {
    "deletable": true,
    "editable": true
   },
   "source": [
    "## Demonstrations"
   ]
  },
  {
   "cell_type": "code",
   "execution_count": null,
   "metadata": {
    "collapsed": true,
    "deletable": true,
    "editable": true
   },
   "outputs": [],
   "source": [
    "%matplotlib inline\n",
    "import matplotlib.pyplot as plt\n",
    "from clawpack import riemann\n",
    "from clawpack.riemann import riemann_tools\n",
    "import numpy as np"
   ]
  },
  {
   "cell_type": "code",
   "execution_count": null,
   "metadata": {
    "collapsed": true,
    "deletable": true,
    "editable": true
   },
   "outputs": [],
   "source": [
    "h_l = 1.; h_r = 0.5;\n",
    "u_l = 0.; u_r = 0.;\n",
    "q_l = np.array([h_l,u_l]); q_r = np.array([h_r,u_r])\n",
    "problem_data={'grav':1.0,'efix':False}"
   ]
  },
  {
   "cell_type": "markdown",
   "metadata": {
    "deletable": true,
    "editable": true
   },
   "source": [
    "### Roe"
   ]
  },
  {
   "cell_type": "code",
   "execution_count": null,
   "metadata": {
    "collapsed": false,
    "deletable": true,
    "editable": true
   },
   "outputs": [],
   "source": [
    "states, speeds, reval = riemann_tools.riemann_solution(riemann.shallow_1D_py.shallow_roe_1D,q_l,q_r,\n",
    "                                                       problem_data=problem_data)\n",
    "riemann_tools.plot_phase(states)"
   ]
  },
  {
   "cell_type": "markdown",
   "metadata": {
    "deletable": true,
    "editable": true
   },
   "source": [
    "### HLL"
   ]
  },
  {
   "cell_type": "code",
   "execution_count": null,
   "metadata": {
    "collapsed": false,
    "deletable": true,
    "editable": true
   },
   "outputs": [],
   "source": [
    "states, speeds, reval = riemann_tools.riemann_solution(riemann.shallow_1D_py.shallow_hll_1D,q_l,q_r,\n",
    "                                                       problem_data=problem_data)\n",
    "riemann_tools.plot_phase(states)"
   ]
  }
 ],
 "metadata": {
  "kernelspec": {
   "display_name": "Python 2",
   "language": "python",
   "name": "python2"
  },
  "language_info": {
   "codemirror_mode": {
    "name": "ipython",
    "version": 2
   },
   "file_extension": ".py",
   "mimetype": "text/x-python",
   "name": "python",
   "nbconvert_exporter": "python",
   "pygments_lexer": "ipython2",
   "version": "2.7.13"
  }
 },
 "nbformat": 4,
 "nbformat_minor": 2
}
